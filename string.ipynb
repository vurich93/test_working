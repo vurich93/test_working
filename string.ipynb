{
 "cells": [
  {
   "cell_type": "code",
   "execution_count": 1,
   "metadata": {},
   "outputs": [
    {
     "name": "stdout",
     "output_type": "stream",
     "text": [
      "ss\n"
     ]
    }
   ],
   "source": [
    "print('ss')"
   ]
  },
  {
   "cell_type": "code",
   "execution_count": 15,
   "metadata": {},
   "outputs": [
    {
     "name": "stdout",
     "output_type": "stream",
     "text": [
      "Язык PYTHON проще, чем язык C++\n",
      "ЯЗЫК PYTHON ПРОЩЕ, ЧЕМ ЯЗЫК C++\n",
      "язык python проще, чем язык c++\n",
      "яЗЫК python ПРОЩЕ, ЧЕМ ЯЗЫК c++\n",
      "Язык Python Проще, Чем Язык C++\n",
      "Язык python проще, чем язык c++\n"
     ]
    },
    {
     "data": {
      "text/plain": [
       "'Langu PYTHON проще, чем язык C++'"
      ]
     },
     "execution_count": 15,
     "metadata": {},
     "output_type": "execute_result"
    }
   ],
   "source": [
    "txt = \"Язык PYTHON проще, чем язык C++\"\n",
    "print(txt)\n",
    "print(txt.upper())\n",
    "print(txt.lower())\n",
    "print(txt.swapcase())\n",
    "print(txt.title())\n",
    "print(txt.capitalize())\n",
    "a = ''\n",
    "a.isalpha()\n",
    "txt.replace('Язык','Langu')"
   ]
  },
  {
   "cell_type": "code",
   "execution_count": 18,
   "metadata": {},
   "outputs": [
    {
     "name": "stdout",
     "output_type": "stream",
     "text": [
      "AsdddBnzasQWER\n"
     ]
    }
   ],
   "source": [
    "A = ['Asddd', 'Bnzas', 'QWER']\n",
    "C = ''.join(A)\n",
    "print(C)"
   ]
  },
  {
   "cell_type": "code",
   "execution_count": 21,
   "metadata": {},
   "outputs": [
    {
     "name": "stdout",
     "output_type": "stream",
     "text": [
      "['Chest', 'Swar', 'Bor']\n",
      "Chest! Swar! Bor\n",
      "['Chest', 'Swar', 'Bor']\n",
      "It's a new figuere\n",
      "That we don't understand\n",
      "But we like it\n",
      "[\"It's a new figuere\", \"That we don't understand\", 'But we like it']\n"
     ]
    }
   ],
   "source": [
    "spis = ['Chest', 'Swar', 'Bor']\n",
    "print(spis)\n",
    "spis_join = '! '.join(spis)\n",
    "print(spis_join)\n",
    "spis_split = spis_join.split('! ')\n",
    "print(spis_split)\n",
    "txt = \"\"\"It's a new figuere\n",
    "That we don't understand\n",
    "But we like it\"\"\"\n",
    "print(txt)\n",
    "txt_splitlines = txt.splitlines()\n",
    "print(txt_splitlines)"
   ]
  },
  {
   "cell_type": "code",
   "execution_count": 26,
   "metadata": {},
   "outputs": [
    {
     "name": "stdout",
     "output_type": "stream",
     "text": [
      "! ##################Python_dev################## !\n",
      "| Python_dev&&&&&&&&&&&&&&&&&&&&&&&&&&&&&&&&&&&& |\n",
      "/ ____________________________________Python_dev /\n"
     ]
    }
   ],
   "source": [
    "txt = 'Python_dev'\n",
    "num = 46\n",
    "print('!',txt.center(num,'#'),'!')\n",
    "print('|',txt.ljust(num,'&'),'|')\n",
    "print('/',txt.rjust(num,'_'),'/')"
   ]
  },
  {
   "cell_type": "code",
   "execution_count": null,
   "metadata": {},
   "outputs": [],
   "source": []
  }
 ],
 "metadata": {
  "interpreter": {
   "hash": "7e45f83cd029f56cb149c9767b2b5ddaed97d209c2a251e04be8208f9271f6e9"
  },
  "kernelspec": {
   "display_name": "Python 3.9.1 64-bit ('.venv': venv)",
   "language": "python",
   "name": "python3"
  },
  "language_info": {
   "codemirror_mode": {
    "name": "ipython",
    "version": 3
   },
   "file_extension": ".py",
   "mimetype": "text/x-python",
   "name": "python",
   "nbconvert_exporter": "python",
   "pygments_lexer": "ipython3",
   "version": "3.9.1"
  },
  "orig_nbformat": 4
 },
 "nbformat": 4,
 "nbformat_minor": 2
}
