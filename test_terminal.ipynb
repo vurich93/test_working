{
 "cells": [
  {
   "cell_type": "code",
   "execution_count": 1,
   "metadata": {},
   "outputs": [],
   "source": [
    "import sys"
   ]
  },
  {
   "cell_type": "code",
   "execution_count": 2,
   "metadata": {},
   "outputs": [
    {
     "name": "stdout",
     "output_type": "stream",
     "text": [
      "heloo WorLD\n"
     ]
    }
   ],
   "source": [
    "print('heloo WorLD')"
   ]
  },
  {
   "cell_type": "code",
   "execution_count": 4,
   "metadata": {},
   "outputs": [
    {
     "name": "stdout",
     "output_type": "stream",
     "text": [
      "source from lisi [5, 10, 4, 6, 23, 7]\n",
      "len list 6\n",
      "the first element: 5\n",
      "The lasst: 7\n",
      "Max value= 23\n",
      "Min value= 4\n",
      "Reverse list: [7, 23, 6, 4, 10, 5]\n",
      "Upped sortred [4, 5, 6, 7, 10, 23] down sorted [23, 10, 7, 6, 5, 4]\n",
      "after edittion: [5, 444, 9090, 23, 7]\n",
      "sequance from: [5, 6, 7, 8, 9]\n",
      "before: [5, 6, 7, 8, 9]\n",
      "after [5, 6, 9]\n",
      "Нечётный числа: [1, 3, 5, 7, 9]\n",
      "['H', 'e', 'l', 'l', 'o']\n",
      "['H', 'e', 'l'] ['l', 'o']\n"
     ]
    }
   ],
   "source": [
    "#list of numbers\n",
    "nums = [5,10,4,6,23,7]\n",
    "#source list\n",
    "print('source from lisi', nums)\n",
    "#len list\n",
    "print('len list', len(nums))\n",
    "#The first element\n",
    "print(\"the first element:\", nums[0])\n",
    "#The last element:\n",
    "print(\"The lasst:\", nums[-1])\n",
    "#max value\n",
    "print('Max value=', max(nums))\n",
    "#min value\n",
    "print('Min value=', min(nums))\n",
    "#reverse list\n",
    "print(\"Reverse list:\", list(reversed(nums)))\n",
    "#upped sort\n",
    "print(\"Upped sortred\", sorted(nums),'down sorted',sorted(nums,reverse=True))\n",
    "#edit some elements in list\n",
    "nums[1:-2] = [444, 9090]\n",
    "#after edit\n",
    "print('after edittion:', nums)\n",
    "#list for numbers 5-10\n",
    "nums = list(range(5,10))\n",
    "print('sequance from:',nums)\n",
    "#delete slize from list\n",
    "print('before:', nums)\n",
    "nums[2:4] = []\n",
    "print('after', nums)\n",
    "#list nechetnych chisel\n",
    "nums = [2*k+1 for k in range(5)]\n",
    "print('Нечётный числа:', nums)\n",
    "#список на основе текста\n",
    "symb = list(\"Hello\")\n",
    "print(symb)\n",
    "#elements in list\n",
    "print(symb[:3], symb[3:])"
   ]
  },
  {
   "cell_type": "code",
   "execution_count": 7,
   "metadata": {},
   "outputs": [
    {
     "name": "stdout",
     "output_type": "stream",
     "text": [
      " 'Summa',1, 5, 'ravna:', 15 \n"
     ]
    }
   ],
   "source": [
    "a = int(input('Введите значения а:'))\n",
    "b = int(input('введите значение b:'))\n",
    "summa = sum(list(range(a,b+1)))\n",
    "print(\" 'Summa',{0}, {1}, 'ravna:', {2} \".format(a,b,summa))"
   ]
  },
  {
   "cell_type": "code",
   "execution_count": 8,
   "metadata": {},
   "outputs": [
    {
     "name": "stdout",
     "output_type": "stream",
     "text": [
      "1+2+3+4+5+6+7+8+9+10+11+12+13+14+15+16+17+18+19+20+21+22+23+24+25+26+27+28+29+30+31+32+33+34+35+36+37+38+39+40+41+42+43+44+45+46+47+48+49+50+51+52+53+54+55+56+57+58+59+60+61+62+63+64+65+66+67+68+69+70+71+72+73+74+75+76+77+78+79+80+81+82+83+84+85+86+87+88+89+90+91+92+93+94+95+96+97+98+99+100+101+102+103+104+105+106+107+108+109+110+111+112+113+114+115+116+117+118+119+120+121+122+123 = 7626\n"
     ]
    }
   ],
   "source": [
    "#количество слагаемых\n",
    "n = input('введите количество слагаемых:')\n",
    "txt = '1'\n",
    "k = 1\n",
    "while str(k) != n:\n",
    "    k = k+1\n",
    "    txt = txt + \"+\" + str(k)\n",
    "print(txt, '=', eval(txt))\n",
    "\n"
   ]
  },
  {
   "cell_type": "code",
   "execution_count": 17,
   "metadata": {},
   "outputs": [
    {
     "name": "stdout",
     "output_type": "stream",
     "text": [
      "['6', '6', '5', '4', '2', '1']\n",
      "Сумма квадратов чисел от 1 до 10 равна 385\n"
     ]
    }
   ],
   "source": [
    "#functions!!!\n",
    "#преобразование текста в список\n",
    "def show(text):\n",
    "    symb=sorted(list(text),reverse=True)\n",
    "    print(symb)\n",
    "show('124566')\n",
    "#вычисление суммы квадратов натуральных чисел:\n",
    "def sqsum(n):\n",
    "    nums = [i*i for i in range(1,n+1)]\n",
    "    return sum(nums)\n",
    "m = input('Введите максимальное число')\n",
    "print('Сумма квадратов чисел от 1 до', m, 'равна', sqsum(int(m)) )"
   ]
  },
  {
   "cell_type": "code",
   "execution_count": 23,
   "metadata": {},
   "outputs": [
    {
     "name": "stdout",
     "output_type": "stream",
     "text": [
      "|2-|1-|3-|2-|1-|3-|2-|1-"
     ]
    }
   ],
   "source": [
    "number = int(input(\"Введите число: \"))\n",
    "while number>0:\n",
    "    #последняя цифра\n",
    "    digit = number%10\n",
    "    print(\"|\"+str(digit), end=\"-\")\n",
    "    #отбрасывается последняя цифра в числе\n",
    "    number = number//10\n",
    "    #отображается разделитель\n",
    "    print( end='')"
   ]
  },
  {
   "cell_type": "code",
   "execution_count": 31,
   "metadata": {},
   "outputs": [
    {
     "name": "stdout",
     "output_type": "stream",
     "text": [
      "0 -> Audi 4\n",
      "1 -> Bmw 3\n",
      "2 -> Vw 2\n"
     ]
    }
   ],
   "source": [
    "cars = ['audi', 'bmw', 'vw']\n",
    "for i,car in enumerate(cars):\n",
    "    print(\"{} -> {} {}\".format(i,car.capitalize(), len(car)))\n"
   ]
  },
  {
   "cell_type": "code",
   "execution_count": 33,
   "metadata": {},
   "outputs": [
    {
     "name": "stdout",
     "output_type": "stream",
     "text": [
      "1 1 2 3 5 8 13 21 34 55 89 144 233 377 "
     ]
    }
   ],
   "source": [
    "#числа фибоначи!!!\n",
    "digit = int(input('Введите число'))\n",
    "a,b = 1,1\n",
    "#выводим первые два\n",
    "print(a,b, end=\" \")\n",
    "for i in range(digit -2):\n",
    "    a,b = b, a+b\n",
    "    print(b, end=\" \")\n"
   ]
  },
  {
   "cell_type": "code",
   "execution_count": 45,
   "metadata": {},
   "outputs": [
    {
     "name": "stdout",
     "output_type": "stream",
     "text": [
      "Введены некорректные данные\n"
     ]
    },
    {
     "ename": "SystemExit",
     "evalue": "0",
     "output_type": "error",
     "traceback": [
      "An exception has occurred, use %tb to see the full traceback.\n",
      "\u001b[0;31mSystemExit\u001b[0m\u001b[0;31m:\u001b[0m 0\n"
     ]
    },
    {
     "name": "stderr",
     "output_type": "stream",
     "text": [
      "/Users/v.urich/Documents/tmz/test_working/.venv/lib/python3.9/site-packages/IPython/core/interactiveshell.py:3259: UserWarning: To exit: use 'exit', 'quit', or Ctrl-D.\n",
      "  warn(\"To exit: use 'exit', 'quit', or Ctrl-D.\", stacklevel=1)\n"
     ]
    }
   ],
   "source": [
    "a,b = eval(input(\"Введите через запятую два числа: \"))\n",
    "if (type(a)==int or type(a)==float) and (type(b)==int or type(b)==float):\n",
    "    print(\"уравнение\"+str(a)+\"x=\"+str(b))\n",
    "    if a!=0:\n",
    "        print(\"Решение х=\"+str(b/a))\n",
    "    else:\n",
    "        if b!=0:\n",
    "            print(\"Решений нет!\")\n",
    "        else:\n",
    "            print(\"Решение любое число\")\n",
    "else:\n",
    "    print(\"Введены некорректные данные\")\n",
    "    raise SystemExit(0)\n",
    "print(\"Поиск решения завершён\")"
   ]
  },
  {
   "cell_type": "code",
   "execution_count": 47,
   "metadata": {},
   "outputs": [
    {
     "name": "stdout",
     "output_type": "stream",
     "text": [
      "Это нечётное число\n"
     ]
    }
   ],
   "source": [
    "#Проверка на чётность\n",
    "num = int(input(\"Введите целое число: \"))\n",
    "res = \"чётное\" if num%2==0 else \"нечётное\"\n",
    "print(\"Это\",res,\"число\", sep=' ')"
   ]
  },
  {
   "cell_type": "code",
   "execution_count": 50,
   "metadata": {},
   "outputs": [
    {
     "name": "stdout",
     "output_type": "stream",
     "text": [
      "Вы ввели не целое число\n",
      "LIKE!!!!!!\n"
     ]
    }
   ],
   "source": [
    "#обработка исключений!!!\n",
    "try:\n",
    "    num=int(input(\"Vvedite chislo:\"))\n",
    "    print(\"Вы ввели число\", str(num))\n",
    "except:\n",
    "    print(\"Вы ввели не целое число\")\n",
    "print(\"LIKE!!!!!!\")"
   ]
  },
  {
   "cell_type": "code",
   "execution_count": 59,
   "metadata": {},
   "outputs": [
    {
     "name": "stdout",
     "output_type": "stream",
     "text": [
      "NameError: неверный идентификатор\n",
      "Завершение программы!!!\n"
     ]
    }
   ],
   "source": [
    "#Operation with list of dig\n",
    "try:\n",
    "    nums = eval(input('введите числовой список:'))\n",
    "    print(\"total:\", str(nums))\n",
    "    a=int(nums[0])\n",
    "    b=int(nums[3])\n",
    "    print(str(a) + \"/\" + str(b) + \"=\"+ str(a/b))\n",
    "except ValueError:\n",
    "    print(\"ValueError: ошибка при преобразовании!!\")\n",
    "except ZeroDivisionError:\n",
    "    print(\"ZeroDivisionError: попытка деления на ноль\")\n",
    "except IndexError:\n",
    "    print(\"IndexError: неверный индекс элемента\")\n",
    "except NameError:\n",
    "    print(\"NameError: неверный идентификатор\")\n",
    "print(\"Завершение программы!!!\")"
   ]
  }
 ],
 "metadata": {
  "interpreter": {
   "hash": "7e45f83cd029f56cb149c9767b2b5ddaed97d209c2a251e04be8208f9271f6e9"
  },
  "kernelspec": {
   "display_name": "Python 3.9.1 64-bit ('.venv': venv)",
   "language": "python",
   "name": "python3"
  },
  "language_info": {
   "codemirror_mode": {
    "name": "ipython",
    "version": 3
   },
   "file_extension": ".py",
   "mimetype": "text/x-python",
   "name": "python",
   "nbconvert_exporter": "python",
   "pygments_lexer": "ipython3",
   "version": "3.9.1"
  },
  "orig_nbformat": 4
 },
 "nbformat": 4,
 "nbformat_minor": 2
}
