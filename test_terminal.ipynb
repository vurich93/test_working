{
 "cells": [
  {
   "cell_type": "code",
   "execution_count": 1,
   "metadata": {},
   "outputs": [],
   "source": [
    "import sys"
   ]
  },
  {
   "cell_type": "code",
   "execution_count": 2,
   "metadata": {},
   "outputs": [
    {
     "name": "stdout",
     "output_type": "stream",
     "text": [
      "heloo WorLD\n"
     ]
    }
   ],
   "source": [
    "print('heloo WorLD')"
   ]
  },
  {
   "cell_type": "code",
   "execution_count": 4,
   "metadata": {},
   "outputs": [
    {
     "name": "stdout",
     "output_type": "stream",
     "text": [
      "source from lisi [5, 10, 4, 6, 23, 7]\n",
      "len list 6\n",
      "the first element: 5\n",
      "The lasst: 7\n",
      "Max value= 23\n",
      "Min value= 4\n",
      "Reverse list: [7, 23, 6, 4, 10, 5]\n",
      "Upped sortred [4, 5, 6, 7, 10, 23] down sorted [23, 10, 7, 6, 5, 4]\n",
      "after edittion: [5, 444, 9090, 23, 7]\n",
      "sequance from: [5, 6, 7, 8, 9]\n",
      "before: [5, 6, 7, 8, 9]\n",
      "after [5, 6, 9]\n",
      "Нечётный числа: [1, 3, 5, 7, 9]\n",
      "['H', 'e', 'l', 'l', 'o']\n",
      "['H', 'e', 'l'] ['l', 'o']\n"
     ]
    }
   ],
   "source": [
    "#list of numbers\n",
    "nums = [5,10,4,6,23,7]\n",
    "#source list\n",
    "print('source from lisi', nums)\n",
    "#len list\n",
    "print('len list', len(nums))\n",
    "#The first element\n",
    "print(\"the first element:\", nums[0])\n",
    "#The last element:\n",
    "print(\"The lasst:\", nums[-1])\n",
    "#max value\n",
    "print('Max value=', max(nums))\n",
    "#min value\n",
    "print('Min value=', min(nums))\n",
    "#reverse list\n",
    "print(\"Reverse list:\", list(reversed(nums)))\n",
    "#upped sort\n",
    "print(\"Upped sortred\", sorted(nums),'down sorted',sorted(nums,reverse=True))\n",
    "#edit some elements in list\n",
    "nums[1:-2] = [444, 9090]\n",
    "#after edit\n",
    "print('after edittion:', nums)\n",
    "#list for numbers 5-10\n",
    "nums = list(range(5,10))\n",
    "print('sequance from:',nums)\n",
    "#delete slize from list\n",
    "print('before:', nums)\n",
    "nums[2:4] = []\n",
    "print('after', nums)\n",
    "#list nechetnych chisel\n",
    "nums = [2*k+1 for k in range(5)]\n",
    "print('Нечётный числа:', nums)\n",
    "#список на основе текста\n",
    "symb = list(\"Hello\")\n",
    "print(symb)\n",
    "#elements in list\n",
    "print(symb[:3], symb[3:])"
   ]
  },
  {
   "cell_type": "code",
   "execution_count": 7,
   "metadata": {},
   "outputs": [
    {
     "name": "stdout",
     "output_type": "stream",
     "text": [
      " 'Summa',1, 5, 'ravna:', 15 \n"
     ]
    }
   ],
   "source": [
    "a = int(input('Введите значения а:'))\n",
    "b = int(input('введите значение b:'))\n",
    "summa = sum(list(range(a,b+1)))\n",
    "print(\" 'Summa',{0}, {1}, 'ravna:', {2} \".format(a,b,summa))"
   ]
  },
  {
   "cell_type": "code",
   "execution_count": 8,
   "metadata": {},
   "outputs": [
    {
     "name": "stdout",
     "output_type": "stream",
     "text": [
      "1+2+3+4+5+6+7+8+9+10+11+12+13+14+15+16+17+18+19+20+21+22+23+24+25+26+27+28+29+30+31+32+33+34+35+36+37+38+39+40+41+42+43+44+45+46+47+48+49+50+51+52+53+54+55+56+57+58+59+60+61+62+63+64+65+66+67+68+69+70+71+72+73+74+75+76+77+78+79+80+81+82+83+84+85+86+87+88+89+90+91+92+93+94+95+96+97+98+99+100+101+102+103+104+105+106+107+108+109+110+111+112+113+114+115+116+117+118+119+120+121+122+123 = 7626\n"
     ]
    }
   ],
   "source": [
    "#количество слагаемых\n",
    "n = input('введите количество слагаемых:')\n",
    "txt = '1'\n",
    "k = 1\n",
    "while str(k) != n:\n",
    "    k = k+1\n",
    "    txt = txt + \"+\" + str(k)\n",
    "print(txt, '=', eval(txt))\n",
    "\n"
   ]
  },
  {
   "cell_type": "code",
   "execution_count": 17,
   "metadata": {},
   "outputs": [
    {
     "name": "stdout",
     "output_type": "stream",
     "text": [
      "['6', '6', '5', '4', '2', '1']\n",
      "Сумма квадратов чисел от 1 до 10 равна 385\n"
     ]
    }
   ],
   "source": [
    "#functions!!!\n",
    "#преобразование текста в список\n",
    "def show(text):\n",
    "    symb=sorted(list(text),reverse=True)\n",
    "    print(symb)\n",
    "show('124566')\n",
    "#вычисление суммы квадратов натуральных чисел:\n",
    "def sqsum(n):\n",
    "    nums = [i*i for i in range(1,n+1)]\n",
    "    return sum(nums)\n",
    "m = input('Введите максимальное число')\n",
    "print('Сумма квадратов чисел от 1 до', m, 'равна', sqsum(int(m)) )"
   ]
  },
  {
   "cell_type": "code",
   "execution_count": 23,
   "metadata": {},
   "outputs": [
    {
     "name": "stdout",
     "output_type": "stream",
     "text": [
      "|2-|1-|3-|2-|1-|3-|2-|1-"
     ]
    }
   ],
   "source": [
    "number = int(input(\"Введите число: \"))\n",
    "while number>0:\n",
    "    #последняя цифра\n",
    "    digit = number%10\n",
    "    print(\"|\"+str(digit), end=\"-\")\n",
    "    #отбрасывается последняя цифра в числе\n",
    "    number = number//10\n",
    "    #отображается разделитель\n",
    "    print( end='')"
   ]
  },
  {
   "cell_type": "code",
   "execution_count": 31,
   "metadata": {},
   "outputs": [
    {
     "name": "stdout",
     "output_type": "stream",
     "text": [
      "0 -> Audi 4\n",
      "1 -> Bmw 3\n",
      "2 -> Vw 2\n"
     ]
    }
   ],
   "source": [
    "cars = ['audi', 'bmw', 'vw']\n",
    "for i,car in enumerate(cars):\n",
    "    print(\"{} -> {} {}\".format(i,car.capitalize(), len(car)))\n"
   ]
  },
  {
   "cell_type": "code",
   "execution_count": 33,
   "metadata": {},
   "outputs": [
    {
     "name": "stdout",
     "output_type": "stream",
     "text": [
      "1 1 2 3 5 8 13 21 34 55 89 144 233 377 "
     ]
    }
   ],
   "source": [
    "#числа фибоначи!!!\n",
    "digit = int(input('Введите число'))\n",
    "a,b = 1,1\n",
    "#выводим первые два\n",
    "print(a,b, end=\" \")\n",
    "for i in range(digit -2):\n",
    "    a,b = b, a+b\n",
    "    print(b, end=\" \")\n"
   ]
  },
  {
   "cell_type": "code",
   "execution_count": 45,
   "metadata": {},
   "outputs": [
    {
     "name": "stdout",
     "output_type": "stream",
     "text": [
      "Введены некорректные данные\n"
     ]
    },
    {
     "ename": "SystemExit",
     "evalue": "0",
     "output_type": "error",
     "traceback": [
      "An exception has occurred, use %tb to see the full traceback.\n",
      "\u001b[0;31mSystemExit\u001b[0m\u001b[0;31m:\u001b[0m 0\n"
     ]
    },
    {
     "name": "stderr",
     "output_type": "stream",
     "text": [
      "/Users/v.urich/Documents/tmz/test_working/.venv/lib/python3.9/site-packages/IPython/core/interactiveshell.py:3259: UserWarning: To exit: use 'exit', 'quit', or Ctrl-D.\n",
      "  warn(\"To exit: use 'exit', 'quit', or Ctrl-D.\", stacklevel=1)\n"
     ]
    }
   ],
   "source": [
    "a,b = eval(input(\"Введите через запятую два числа: \"))\n",
    "if (type(a)==int or type(a)==float) and (type(b)==int or type(b)==float):\n",
    "    print(\"уравнение\"+str(a)+\"x=\"+str(b))\n",
    "    if a!=0:\n",
    "        print(\"Решение х=\"+str(b/a))\n",
    "    else:\n",
    "        if b!=0:\n",
    "            print(\"Решений нет!\")\n",
    "        else:\n",
    "            print(\"Решение любое число\")\n",
    "else:\n",
    "    print(\"Введены некорректные данные\")\n",
    "    raise SystemExit(0)\n",
    "print(\"Поиск решения завершён\")"
   ]
  },
  {
   "cell_type": "code",
   "execution_count": 47,
   "metadata": {},
   "outputs": [
    {
     "name": "stdout",
     "output_type": "stream",
     "text": [
      "Это нечётное число\n"
     ]
    }
   ],
   "source": [
    "#Проверка на чётность\n",
    "num = int(input(\"Введите целое число: \"))\n",
    "res = \"чётное\" if num%2==0 else \"нечётное\"\n",
    "print(\"Это\",res,\"число\", sep=' ')"
   ]
  },
  {
   "cell_type": "code",
   "execution_count": 50,
   "metadata": {},
   "outputs": [
    {
     "name": "stdout",
     "output_type": "stream",
     "text": [
      "Вы ввели не целое число\n",
      "LIKE!!!!!!\n"
     ]
    }
   ],
   "source": [
    "#обработка исключений!!!\n",
    "try:\n",
    "    num=int(input(\"Vvedite chislo:\"))\n",
    "    print(\"Вы ввели число\", str(num))\n",
    "except:\n",
    "    print(\"Вы ввели не целое число\")\n",
    "print(\"LIKE!!!!!!\")"
   ]
  },
  {
   "cell_type": "code",
   "execution_count": 2,
   "metadata": {},
   "outputs": [
    {
     "name": "stdout",
     "output_type": "stream",
     "text": [
      "total: (1, 2, 3)\n",
      "IndexError: неверный индекс элемента\n",
      "Завершение программы!!!\n"
     ]
    }
   ],
   "source": [
    "#Operation with list of dig\n",
    "try:\n",
    "    nums = eval(input('введите числовой список:'))\n",
    "    print(\"total:\", str(nums))\n",
    "    a=int(nums[0])\n",
    "    b=int(nums[3])\n",
    "    print(str(a) + \"/\" + str(b) + \"=\"+ str(a/b))\n",
    "except ValueError:\n",
    "    print(\"ValueError: ошибка при преобразовании!!\")\n",
    "except ZeroDivisionError:\n",
    "    print(\"ZeroDivisionError: попытка деления на ноль\")\n",
    "except IndexError:\n",
    "    print(\"IndexError: неверный индекс элемента\")\n",
    "except NameError:\n",
    "    print(\"NameError: неверный идентификатор\")\n",
    "print(\"Завершение программы!!!\")"
   ]
  },
  {
   "cell_type": "code",
   "execution_count": 3,
   "metadata": {},
   "outputs": [
    {
     "name": "stdout",
     "output_type": "stream",
     "text": [
      "('A', 'B', 'C', 'D', 'E', 'F')\n"
     ]
    }
   ],
   "source": [
    "Delta = tuple(\"ABCDEF\")\n",
    "print(Delta)"
   ]
  },
  {
   "cell_type": "code",
   "execution_count": 5,
   "metadata": {},
   "outputs": [
    {
     "name": "stdout",
     "output_type": "stream",
     "text": [
      "(1, 2, 4, 8, 16, 32, 64, 128, 256, 512, 1024)\n"
     ]
    }
   ],
   "source": [
    "Echo = tuple(2**k for k in range(11))\n",
    "print(Echo)"
   ]
  },
  {
   "cell_type": "code",
   "execution_count": 6,
   "metadata": {},
   "outputs": [
    {
     "name": "stdout",
     "output_type": "stream",
     "text": [
      "[345, 1, 2, 3, 4, 100]\n"
     ]
    }
   ],
   "source": [
    "spis = [1,2,3,4]\n",
    "#Добавить элемент в конец списка\n",
    "spis+=[100]\n",
    "spis = [345]+spis\n",
    "print(spis)"
   ]
  },
  {
   "cell_type": "code",
   "execution_count": 7,
   "metadata": {},
   "outputs": [
    {
     "name": "stdout",
     "output_type": "stream",
     "text": [
      "(1, 2, 4, 5, 6)\n"
     ]
    }
   ],
   "source": [
    "#удаление элементов из кортежа\n",
    "C =(1,2,3,4,5,6)\n",
    "C = C[:2]+C[3:]\n",
    "print(C)"
   ]
  },
  {
   "cell_type": "code",
   "execution_count": 10,
   "metadata": {},
   "outputs": [
    {
     "name": "stdout",
     "output_type": "stream",
     "text": [
      "[1, 1, 2, 3, 4, 9, 8, 27, 16, 81, 32, 243, 64, 729, 128]\n"
     ]
    }
   ],
   "source": [
    "B = [2**(k//2) if k%2==0 else 3**(k//2) for k in range(15)]\n",
    "print(B)"
   ]
  },
  {
   "cell_type": "code",
   "execution_count": 9,
   "metadata": {},
   "outputs": [
    {
     "name": "stdout",
     "output_type": "stream",
     "text": [
      "(1, 2, 4, 5, 7, 8, 10, 11, 13, 14, 16, 17, 19, 20)\n"
     ]
    }
   ],
   "source": [
    "A = tuple(k for k in range(1,21) if k%3!=0)\n",
    "print(A)"
   ]
  },
  {
   "cell_type": "code",
   "execution_count": 12,
   "metadata": {},
   "outputs": [
    {
     "name": "stdout",
     "output_type": "stream",
     "text": [
      "Spisok_vl\n",
      "[11, 12, 13, 14, 15] \n",
      "[21, 22, 23, 24, 25] \n",
      "[31, 32, 33, 34, 35] \n",
      "[11, 12, 13, 14, 15] \n",
      "[21, 22, 23, 24, 25] \n",
      "[31, 32, 33, 34, 35] \n",
      "[11, 12, 13, 14, 15] \n",
      "[21, 22, 23, 24, 25] \n",
      "[31, 32, 33, 34, 35] \n",
      "List B\n",
      "[2, 3, 7, 2] \n",
      "[3, 3, 5, 9] \n",
      "[4, 6, 9, 3] \n",
      "[2, 3, 7, 2] \n",
      "[3, 3, 5, 9] \n",
      "[4, 6, 9, 3] \n",
      "[2, 3, 7, 2] \n",
      "[3, 3, 5, 9] \n",
      "[4, 6, 9, 3] \n",
      "List with letters\n",
      "['A', 'B', 'C', 'D', 'E'] \n",
      "['F', 'G', 'H', 'I', 'J'] \n",
      "['K', 'L', 'M', 'N', 'O'] \n",
      "['A', 'B', 'C', 'D', 'E'] \n",
      "['F', 'G', 'H', 'I', 'J'] \n",
      "['K', 'L', 'M', 'N', 'O'] \n",
      "['A', 'B', 'C', 'D', 'E'] \n",
      "['F', 'G', 'H', 'I', 'J'] \n",
      "['K', 'L', 'M', 'N', 'O'] \n"
     ]
    }
   ],
   "source": [
    "from random import *\n",
    "#функция отображения вложенного списка:\n",
    "def show(A):\n",
    "    for a in A:\n",
    "        for s in A:\n",
    "            print(s, end=\" \")\n",
    "            print()\n",
    "\n",
    "#создание вложенного списка из случайных чисел\n",
    "def rands(m,n):\n",
    "    res = [[randint(0,9) for i in range(n)]for j in range(m)]\n",
    "    return res\n",
    "#Функция для создания вложенного списка из букв\n",
    "def symbs(m,n):\n",
    "    val='A'\n",
    "    res = [['' for i in range(n)] for j in range(m)]\n",
    "    for i in range(m):\n",
    "        for j in range(n):\n",
    "            res[i][j]=val\n",
    "            val=chr(ord(val)+1)\n",
    "    return res\n",
    "#создание вложенного списка:\n",
    "spis_vl = [[(j+1)*10 +i+1 for i in range(5)] for j in range(3)]\n",
    "print(\"Spisok_vl\")\n",
    "show(spis_vl)\n",
    "seed(2019)\n",
    "B = rands(3,4)\n",
    "print(\"List B\")\n",
    "show(B)\n",
    "C = symbs(3,5)\n",
    "print(\"List with letters\")\n",
    "show(C)\n"
   ]
  },
  {
   "cell_type": "code",
   "execution_count": 22,
   "metadata": {},
   "outputs": [
    {
     "data": {
      "text/plain": [
       "'П'"
      ]
     },
     "execution_count": 22,
     "metadata": {},
     "output_type": "execute_result"
    }
   ],
   "source": [
    "chr(1055)"
   ]
  },
  {
   "cell_type": "code",
   "execution_count": 32,
   "metadata": {},
   "outputs": [
    {
     "name": "stdout",
     "output_type": "stream",
     "text": [
      "[1, 2, [2, 4], 'Python', [46, 2]]\n",
      "[1, 2, [2, 4], 'qqq', [46, 2]]\n",
      "[1, 2, [2, 4], 'Python', [46, 2]]\n",
      "[1, 2, [2, 4], 'Python', [46, 67]]\n",
      "[[11, 111], 2, [2, 3], 'Python', 'C#']\n",
      "[1, 2, [2, 3], 'qqq', [46, 2]]\n",
      "[1, 2, [2, 3], 'Python', [46, 2]]\n",
      "[1, 2, [2, 4], 'Python', [46, 67]]\n"
     ]
    }
   ],
   "source": [
    "from copy import deepcopy\n",
    "#полное копирование(deepcopy) и поверхностоное копирование\n",
    "Asf = [1,2,[2,4],\"Python\",[46,67]]\n",
    "Cs = Asf[:]\n",
    "Ds = Asf.copy()\n",
    "Bs = deepcopy(Asf)\n",
    "Cs[4][1]=2\n",
    "Cs[3]='qqq'\n",
    "print(Asf,Cs,Ds,Bs,sep='\\n')\n",
    "Asf[0]=[11,111]\n",
    "Asf[2][1]=3\n",
    "Asf[4]= 'C#'\n",
    "print(Asf,Cs,Ds,Bs, sep='\\n')\n",
    "\n"
   ]
  },
  {
   "cell_type": "code",
   "execution_count": 54,
   "metadata": {},
   "outputs": [
    {
     "name": "stdout",
     "output_type": "stream",
     "text": [
      "[[11, 111], 2, [2, 3], 1, 2, 1, 2, '1', '1', '1', '1', '1', ['sss1111', 'kk']]\n",
      "[[11, 111], 2, [2, 3], 1, 2, 1, 2, '1', '1', '1', '1', '1', ['sss1111', 'kk']]\n"
     ]
    }
   ],
   "source": [
    "#функции и методы списков\n",
    "Asf.pop(-1)\n",
    "Asf.extend('1')\n",
    "Asf.append(['sss1111','kk'])\n",
    "print(Asf)\n",
    "Asf.count('1')\n",
    "print(Asf)\n"
   ]
  },
  {
   "cell_type": "code",
   "execution_count": 56,
   "metadata": {},
   "outputs": [
    {
     "name": "stdout",
     "output_type": "stream",
     "text": [
      "[1, 2, 3, 4, 'dd', 1, 2, 3, 4, 'dd', 1, 2, 3, 4, 'dd', 1, 2, 3, 4, 'dd', 1, 2, 3, 4, 'dd']\n"
     ]
    }
   ],
   "source": [
    "test_list = [1,2,3,4,'dd'] * 5\n",
    "print(test_list)"
   ]
  },
  {
   "cell_type": "code",
   "execution_count": 57,
   "metadata": {},
   "outputs": [
    {
     "name": "stdout",
     "output_type": "stream",
     "text": [
      "Set_1: {0, True, 2, 3} Set_2: {False, 1, 8, 7}\n"
     ]
    }
   ],
   "source": [
    "#Множества\n",
    "set_1 = {True,1,3,2,0,False}\n",
    "set_2 = {1,True,False,7,8,0}\n",
    "print(\"Set_1:\",set_1,\"Set_2:\",set_2)"
   ]
  },
  {
   "cell_type": "code",
   "execution_count": 58,
   "metadata": {},
   "outputs": [
    {
     "data": {
      "text/plain": [
       "4"
      ]
     },
     "execution_count": 58,
     "metadata": {},
     "output_type": "execute_result"
    }
   ],
   "source": [
    "len(set_2)"
   ]
  },
  {
   "cell_type": "code",
   "execution_count": 65,
   "metadata": {},
   "outputs": [
    {
     "name": "stdout",
     "output_type": "stream",
     "text": [
      "False\n"
     ]
    }
   ],
   "source": [
    "print(11 in set_2)"
   ]
  },
  {
   "cell_type": "code",
   "execution_count": 1,
   "metadata": {},
   "outputs": [
    {
     "name": "stdout",
     "output_type": "stream",
     "text": [
      "{'23', 's', 'as', 'df', '3', '5'}\n"
     ]
    }
   ],
   "source": [
    "#Объединение множеств\n",
    "A = {'s','df','as','23'}\n",
    "B = {'3','5', 'as', '23'}\n",
    "C = A|B\n",
    "юprint(C)"
   ]
  },
  {
   "cell_type": "code",
   "execution_count": 2,
   "metadata": {},
   "outputs": [
    {
     "name": "stdout",
     "output_type": "stream",
     "text": [
      "{'as', '23'}\n"
     ]
    }
   ],
   "source": [
    "#Пересечение множеств\n",
    "C = A&B\n",
    "print(C)"
   ]
  },
  {
   "cell_type": "code",
   "execution_count": 3,
   "metadata": {},
   "outputs": [
    {
     "name": "stdout",
     "output_type": "stream",
     "text": [
      "{'df', 's'}\n"
     ]
    }
   ],
   "source": [
    "#Разность множеств\n",
    "C = A-B\n",
    "print(C)"
   ]
  },
  {
   "cell_type": "code",
   "execution_count": 4,
   "metadata": {},
   "outputs": [
    {
     "name": "stdout",
     "output_type": "stream",
     "text": [
      "{'s', 'df', '3', '5'}\n"
     ]
    }
   ],
   "source": [
    "#симметричная разность\n",
    "C = B.symmetric_difference(A)\n",
    "print(C)"
   ]
  },
  {
   "cell_type": "code",
   "execution_count": 5,
   "metadata": {},
   "outputs": [
    {
     "data": {
      "text/plain": [
       "False"
      ]
     },
     "execution_count": 5,
     "metadata": {},
     "output_type": "execute_result"
    }
   ],
   "source": [
    "A.issubset(B)"
   ]
  },
  {
   "cell_type": "code",
   "execution_count": 7,
   "metadata": {},
   "outputs": [
    {
     "data": {
      "text/plain": [
       "False"
      ]
     },
     "execution_count": 7,
     "metadata": {},
     "output_type": "execute_result"
    }
   ],
   "source": [
    "B.issubset(A)"
   ]
  },
  {
   "cell_type": "code",
   "execution_count": 9,
   "metadata": {},
   "outputs": [],
   "source": [
    "\n",
    "A = {1,2,3,4,5}\n",
    "B = {6,7,8,9}"
   ]
  },
  {
   "cell_type": "code",
   "execution_count": 10,
   "metadata": {},
   "outputs": [
    {
     "data": {
      "text/plain": [
       "True"
      ]
     },
     "execution_count": 10,
     "metadata": {},
     "output_type": "execute_result"
    }
   ],
   "source": [
    "B.isdisjoint(A)"
   ]
  },
  {
   "cell_type": "code",
   "execution_count": 11,
   "metadata": {},
   "outputs": [
    {
     "data": {
      "text/plain": [
       "False"
      ]
     },
     "execution_count": 11,
     "metadata": {},
     "output_type": "execute_result"
    }
   ],
   "source": [
    "A == B"
   ]
  },
  {
   "cell_type": "code",
   "execution_count": 18,
   "metadata": {},
   "outputs": [],
   "source": [
    "A = {6,7,8,9,1,2,3}"
   ]
  },
  {
   "cell_type": "code",
   "execution_count": 21,
   "metadata": {},
   "outputs": [
    {
     "data": {
      "text/plain": [
       "False"
      ]
     },
     "execution_count": 21,
     "metadata": {},
     "output_type": "execute_result"
    }
   ],
   "source": [
    "A == B"
   ]
  },
  {
   "cell_type": "code",
   "execution_count": 26,
   "metadata": {},
   "outputs": [
    {
     "name": "stdout",
     "output_type": "stream",
     "text": [
      "{1, 2, 3, 4, 5, 6}\n"
     ]
    }
   ],
   "source": [
    "digit = set()\n",
    "number = 123456\n",
    "while number!=0:\n",
    "\n",
    "    digit.add(number%10)\n",
    "    number//=10\n",
    "print(digit)"
   ]
  },
  {
   "cell_type": "code",
   "execution_count": 31,
   "metadata": {},
   "outputs": [
    {
     "name": "stdout",
     "output_type": "stream",
     "text": [
      "{1, 2, 3, 4, 5, 6} {'t', 'g', 'b', 'a'}\n"
     ]
    }
   ],
   "source": [
    "A = {6,5,4,3,2,1}\n",
    "B = {'b','g','t','a'}\n",
    "print(A,B)"
   ]
  },
  {
   "cell_type": "code",
   "execution_count": 32,
   "metadata": {},
   "outputs": [
    {
     "name": "stdout",
     "output_type": "stream",
     "text": [
      "6\n",
      "4\n",
      "1\n",
      "2\n",
      "3\n",
      "5\n"
     ]
    }
   ],
   "source": [
    "digit = set(input(\"введите число\"))\n",
    "for i in digit:\n",
    "    print(i,sep=\" \")\n"
   ]
  },
  {
   "cell_type": "code",
   "execution_count": 45,
   "metadata": {},
   "outputs": [
    {
     "name": "stdout",
     "output_type": "stream",
     "text": [
      "{33, 3, 36, 6, 39, 9, 11, 12, 44, 48, 18, 22, 24, 27}\n"
     ]
    }
   ],
   "source": [
    "n = 50\n",
    "digit = set(range(1,n+1))\n",
    "A = {s for s in digit if s%3==0}\n",
    "B = {s for s in digit if s%11==0}\n",
    "C = {s for s in digit if s%5==0}\n",
    "D = {s for s in digit if s%7==0}\n",
    "N = A.union(B) - C.union(D)\n",
    "print(N)\n"
   ]
  },
  {
   "cell_type": "code",
   "execution_count": 49,
   "metadata": {},
   "outputs": [
    {
     "name": "stdout",
     "output_type": "stream",
     "text": [
      "{33, 3, 36, 6, 39, 9, 11, 12, 44, 48, 18, 22, 24, 27}\n"
     ]
    }
   ],
   "source": [
    "#Пример задачи\n",
    "n = 50\n",
    "digit = set(range(1,n+1))\n",
    "A = {s for s in digit if (s%3==0 or s%11==0)}\n",
    "B = {s for s in digit if (s%5==0 or s%7==0)}\n",
    "print(A.difference(B))"
   ]
  },
  {
   "cell_type": "code",
   "execution_count": 54,
   "metadata": {},
   "outputs": [
    {
     "name": "stdout",
     "output_type": "stream",
     "text": [
      "{'пн': 0, 'вт': 1, 'ср': 2} {'пн': 0, 'вт': 1, 'ср': 2}\n"
     ]
    }
   ],
   "source": [
    "#создание словарей\n",
    "days = ['пн','вт','ср']\n",
    "week = {days[d]: d for d in range(len(days))}\n",
    "new_week = {d:days.index(d) for d in days}\n",
    "print(week, new_week, end=\"\\n\")"
   ]
  },
  {
   "cell_type": "code",
   "execution_count": 55,
   "metadata": {},
   "outputs": [],
   "source": [
    "dic = {1:9,2:8}"
   ]
  },
  {
   "cell_type": "code",
   "execution_count": 56,
   "metadata": {},
   "outputs": [
    {
     "data": {
      "text/plain": [
       "9"
      ]
     },
     "execution_count": 56,
     "metadata": {},
     "output_type": "execute_result"
    }
   ],
   "source": [
    "dic[1]"
   ]
  },
  {
   "cell_type": "code",
   "execution_count": 69,
   "metadata": {},
   "outputs": [
    {
     "name": "stdout",
     "output_type": "stream",
     "text": [
      "{(41, 43), (5, 7), (23, 25), (9, 11), (19, 21), (1, 3), (37, 39), (47, 49), (15, 17), (33, 35), (43, 45), (29, 31), (39, 41), (11, 13), (7, 9), (25, 27), (35, 37), (21, 23), (3, 5), (31, 33), (17, 19), (27, 29), (45, 47), (13, 15)}\n"
     ]
    }
   ],
   "source": [
    "digit = {(s,s+2) for s in range(50) if s%2!=0 and s!=49}\n",
    "\n",
    "print(digit)\n",
    "\n",
    "\n",
    "    \n",
    "\n",
    "    \n"
   ]
  },
  {
   "cell_type": "code",
   "execution_count": 94,
   "metadata": {},
   "outputs": [
    {
     "name": "stdout",
     "output_type": "stream",
     "text": [
      "Промежуток от 1-10 [3, 4, 8, 3, 4]\n",
      "Промежуток 10-30 [30, 17, 30, 20, 30, 29, 30, 19, 23, 29]\n"
     ]
    }
   ],
   "source": [
    "from random import *\n",
    "spis_11 = []\n",
    "spis_22 = []\n",
    "seed(2019)\n",
    "for i in range(5):\n",
    "    c = randint(1,10)\n",
    "    spis_11.append(c)\n",
    "for i in range(10):\n",
    "    c = randint(10,30)\n",
    "    spis_22.append(c)\n",
    "print(\"Промежуток от 1-10\",spis_11)\n",
    "print('Промежуток 10-30',spis_22)\n",
    "    "
   ]
  },
  {
   "cell_type": "code",
   "execution_count": 111,
   "metadata": {},
   "outputs": [
    {
     "name": "stdout",
     "output_type": "stream",
     "text": [
      "Промежуток от 1-10 [7, 9, 8, 6, 10]\n",
      "Промежуток 10-30 [21, 16, 14, 24, 24, 18, 23, 20, 21, 25]\n"
     ]
    }
   ],
   "source": [
    "from random import *\n",
    "spis_11 = []\n",
    "spis_22 = []\n",
    "for i in range(5):\n",
    "    c = randint(1,10)\n",
    "    spis_11.append(c)\n",
    "for i in range(10):\n",
    "    c = randint(10,30)\n",
    "    spis_22.append(c)\n",
    "print(\"Промежуток от 1-10\",spis_11)\n",
    "print('Промежуток 10-30',spis_22)"
   ]
  }
 ],
 "metadata": {
  "interpreter": {
   "hash": "7e45f83cd029f56cb149c9767b2b5ddaed97d209c2a251e04be8208f9271f6e9"
  },
  "kernelspec": {
   "display_name": "Python 3.9.1 64-bit ('.venv': venv)",
   "language": "python",
   "name": "python3"
  },
  "language_info": {
   "codemirror_mode": {
    "name": "ipython",
    "version": 3
   },
   "file_extension": ".py",
   "mimetype": "text/x-python",
   "name": "python",
   "nbconvert_exporter": "python",
   "pygments_lexer": "ipython3",
   "version": "3.9.1"
  },
  "orig_nbformat": 4
 },
 "nbformat": 4,
 "nbformat_minor": 2
}
